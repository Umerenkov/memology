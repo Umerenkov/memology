{
 "cells": [
  {
   "cell_type": "markdown",
   "metadata": {},
   "source": [
    "# Memology"
   ]
  },
  {
   "cell_type": "code",
   "execution_count": 41,
   "metadata": {
    "collapsed": false
   },
   "outputs": [],
   "source": [
    "import warnings\n",
    "warnings.filterwarnings('ignore')\n",
    "import numpy as np\n",
    "import pandas as pd\n",
    "import matplotlib.pyplot as plt\n",
    "plt.style.use(\"ggplot\")\n",
    "from pylab import rcParams      \n",
    "rcParams['figure.figsize'] = 6, 6\n",
    "%matplotlib inline"
   ]
  },
  {
   "cell_type": "code",
   "execution_count": 21,
   "metadata": {
    "collapsed": true
   },
   "outputs": [],
   "source": [
    "memes = pd.DataFrame()"
   ]
  },
  {
   "cell_type": "code",
   "execution_count": 22,
   "metadata": {
    "collapsed": true
   },
   "outputs": [],
   "source": [
    "for i in range(10):\n",
    "    memes = memes.append(pd.read_csv('/Users/dmitrys/Desktop/DataProjects/KnowYourMemes/Memes_{}.csv'.format(i+1)), ignore_index=True)"
   ]
  },
  {
   "cell_type": "code",
   "execution_count": 23,
   "metadata": {
    "collapsed": false
   },
   "outputs": [],
   "source": [
    "memes.drop(['Unnamed: 0'], axis=1, inplace=True)"
   ]
  },
  {
   "cell_type": "code",
   "execution_count": 30,
   "metadata": {
    "collapsed": false
   },
   "outputs": [],
   "source": [
    "memes = memes.drop_duplicates(\"name\")"
   ]
  },
  {
   "cell_type": "code",
   "execution_count": 39,
   "metadata": {
    "collapsed": false
   },
   "outputs": [
    {
     "name": "stdout",
     "output_type": "stream",
     "text": [
      "<class 'pandas.core.frame.DataFrame'>\n",
      "Int64Index: 11679 entries, 0 to 13445\n",
      "Data columns (total 10 columns):\n",
      "name        11679 non-null object\n",
      "added       11679 non-null object\n",
      "views       11679 non-null int64\n",
      "comments    11679 non-null object\n",
      "status      11679 non-null object\n",
      "year        11679 non-null object\n",
      "tags        11679 non-null object\n",
      "about       6832 non-null object\n",
      "origin      4819 non-null object\n",
      "spread      947 non-null object\n",
      "dtypes: int64(1), object(9)\n",
      "memory usage: 1003.7+ KB\n"
     ]
    }
   ],
   "source": [
    "memes.info()"
   ]
  },
  {
   "cell_type": "code",
   "execution_count": 31,
   "metadata": {
    "collapsed": false
   },
   "outputs": [
    {
     "data": {
      "text/html": [
       "<div>\n",
       "<table border=\"1\" class=\"dataframe\">\n",
       "  <thead>\n",
       "    <tr style=\"text-align: right;\">\n",
       "      <th></th>\n",
       "      <th>name</th>\n",
       "      <th>added</th>\n",
       "      <th>views</th>\n",
       "      <th>comments</th>\n",
       "      <th>status</th>\n",
       "      <th>year</th>\n",
       "      <th>tags</th>\n",
       "      <th>about</th>\n",
       "      <th>origin</th>\n",
       "      <th>spread</th>\n",
       "    </tr>\n",
       "  </thead>\n",
       "  <tbody>\n",
       "    <tr>\n",
       "      <th>0</th>\n",
       "      <td>Last Time The Cubs Won the World Series</td>\n",
       "      <td>Nov 03, 2016 at 11:22AM EDT</td>\n",
       "      <td>17157</td>\n",
       "      <td>60</td>\n",
       "      <td>Submission</td>\n",
       "      <td>Sports</td>\n",
       "      <td>Chicago</td>\n",
       "      <td>Last Time the Cubs Won the World Series refers...</td>\n",
       "      <td>NaN</td>\n",
       "      <td>Jokes and fascination with the Cubs’ had small...</td>\n",
       "    </tr>\n",
       "    <tr>\n",
       "      <th>1</th>\n",
       "      <td>PenorCut's Fiverr Videos</td>\n",
       "      <td>Jul 20, 2015 at 07:54PM EDT</td>\n",
       "      <td>36629</td>\n",
       "      <td>39</td>\n",
       "      <td>Submission</td>\n",
       "      <td>Researching</td>\n",
       "      <td>YouTube</td>\n",
       "      <td>NaN</td>\n",
       "      <td>NaN</td>\n",
       "      <td>NaN</td>\n",
       "    </tr>\n",
       "    <tr>\n",
       "      <th>2</th>\n",
       "      <td>AmourShipping</td>\n",
       "      <td>Nov 02, 2016 at 03:01PM EDT</td>\n",
       "      <td>32293</td>\n",
       "      <td>81</td>\n",
       "      <td>Submission</td>\n",
       "      <td>Pairing</td>\n",
       "      <td>Unknown</td>\n",
       "      <td>Amourshipping refers to the romantic pairing o...</td>\n",
       "      <td>On September 12th, 2013, a discussion thread f...</td>\n",
       "      <td>NaN</td>\n",
       "    </tr>\n",
       "  </tbody>\n",
       "</table>\n",
       "</div>"
      ],
      "text/plain": [
       "                                      name                        added  \\\n",
       "0  Last Time The Cubs Won the World Series  Nov 03, 2016 at 11:22AM EDT   \n",
       "1                 PenorCut's Fiverr Videos  Jul 20, 2015 at 07:54PM EDT   \n",
       "2                            AmourShipping  Nov 02, 2016 at 03:01PM EDT   \n",
       "\n",
       "   views comments      status         year     tags  \\\n",
       "0  17157       60  Submission       Sports  Chicago   \n",
       "1  36629       39  Submission  Researching  YouTube   \n",
       "2  32293       81  Submission      Pairing  Unknown   \n",
       "\n",
       "                                               about  \\\n",
       "0  Last Time the Cubs Won the World Series refers...   \n",
       "1                                                NaN   \n",
       "2  Amourshipping refers to the romantic pairing o...   \n",
       "\n",
       "                                              origin  \\\n",
       "0                                                NaN   \n",
       "1                                                NaN   \n",
       "2  On September 12th, 2013, a discussion thread f...   \n",
       "\n",
       "                                              spread  \n",
       "0  Jokes and fascination with the Cubs’ had small...  \n",
       "1                                                NaN  \n",
       "2                                                NaN  "
      ]
     },
     "execution_count": 31,
     "metadata": {},
     "output_type": "execute_result"
    }
   ],
   "source": [
    "memes.head(3)"
   ]
  },
  {
   "cell_type": "code",
   "execution_count": 36,
   "metadata": {
    "collapsed": false
   },
   "outputs": [
    {
     "data": {
      "text/html": [
       "<div>\n",
       "<table border=\"1\" class=\"dataframe\">\n",
       "  <thead>\n",
       "    <tr style=\"text-align: right;\">\n",
       "      <th></th>\n",
       "      <th>name</th>\n",
       "      <th>added</th>\n",
       "      <th>views</th>\n",
       "      <th>comments</th>\n",
       "      <th>status</th>\n",
       "      <th>year</th>\n",
       "      <th>tags</th>\n",
       "      <th>about</th>\n",
       "      <th>origin</th>\n",
       "      <th>spread</th>\n",
       "    </tr>\n",
       "  </thead>\n",
       "  <tbody>\n",
       "    <tr>\n",
       "      <th>13443</th>\n",
       "      <td>Cannon Penis</td>\n",
       "      <td>Oct 11, 2010 at 06:07PM EDT</td>\n",
       "      <td>20202</td>\n",
       "      <td>14</td>\n",
       "      <td>Submission</td>\n",
       "      <td>NSFW</td>\n",
       "      <td>YouTube</td>\n",
       "      <td>NaN</td>\n",
       "      <td>NaN</td>\n",
       "      <td>NaN</td>\n",
       "    </tr>\n",
       "    <tr>\n",
       "      <th>13444</th>\n",
       "      <td>Gaben</td>\n",
       "      <td>Oct 11, 2010 at 01:22PM EDT</td>\n",
       "      <td>479780</td>\n",
       "      <td>49</td>\n",
       "      <td>Submission</td>\n",
       "      <td>2010</td>\n",
       "      <td>tf2, stop, newell, control, wait, gabe, gaben,...</td>\n",
       "      <td>Gaben is a nickname given to Gabe Newell, the ...</td>\n",
       "      <td>The soundclip of Gabe Newell saying “gaben” ca...</td>\n",
       "      <td>NaN</td>\n",
       "    </tr>\n",
       "    <tr>\n",
       "      <th>13445</th>\n",
       "      <td>alex smith fail</td>\n",
       "      <td>Oct 11, 2010 at 06:00AM EDT</td>\n",
       "      <td>2730</td>\n",
       "      <td>14</td>\n",
       "      <td>Deadpool</td>\n",
       "      <td>2010</td>\n",
       "      <td>alex smith, 49ers, sf, san francisco, fail.qb,...</td>\n",
       "      <td>NaN</td>\n",
       "      <td>NaN</td>\n",
       "      <td>NaN</td>\n",
       "    </tr>\n",
       "  </tbody>\n",
       "</table>\n",
       "</div>"
      ],
      "text/plain": [
       "                  name                        added   views comments  \\\n",
       "13443     Cannon Penis  Oct 11, 2010 at 06:07PM EDT   20202       14   \n",
       "13444            Gaben  Oct 11, 2010 at 01:22PM EDT  479780       49   \n",
       "13445  alex smith fail  Oct 11, 2010 at 06:00AM EDT    2730       14   \n",
       "\n",
       "           status  year                                               tags  \\\n",
       "13443  Submission  NSFW                                            YouTube   \n",
       "13444  Submission  2010  tf2, stop, newell, control, wait, gabe, gaben,...   \n",
       "13445    Deadpool  2010  alex smith, 49ers, sf, san francisco, fail.qb,...   \n",
       "\n",
       "                                                   about  \\\n",
       "13443                                                NaN   \n",
       "13444  Gaben is a nickname given to Gabe Newell, the ...   \n",
       "13445                                                NaN   \n",
       "\n",
       "                                                  origin spread  \n",
       "13443                                                NaN    NaN  \n",
       "13444  The soundclip of Gabe Newell saying “gaben” ca...    NaN  \n",
       "13445                                                NaN    NaN  "
      ]
     },
     "execution_count": 36,
     "metadata": {},
     "output_type": "execute_result"
    }
   ],
   "source": [
    "memes.tail(3)"
   ]
  },
  {
   "cell_type": "code",
   "execution_count": 33,
   "metadata": {
    "collapsed": false
   },
   "outputs": [
    {
     "data": {
      "text/html": [
       "<div>\n",
       "<table border=\"1\" class=\"dataframe\">\n",
       "  <thead>\n",
       "    <tr style=\"text-align: right;\">\n",
       "      <th></th>\n",
       "      <th>name</th>\n",
       "      <th>added</th>\n",
       "      <th>views</th>\n",
       "      <th>comments</th>\n",
       "      <th>status</th>\n",
       "      <th>year</th>\n",
       "      <th>tags</th>\n",
       "      <th>about</th>\n",
       "      <th>origin</th>\n",
       "      <th>spread</th>\n",
       "    </tr>\n",
       "  </thead>\n",
       "  <tbody>\n",
       "    <tr>\n",
       "      <th>6362</th>\n",
       "      <td>Doge</td>\n",
       "      <td>Jul 24, 2013 at 04:29PM EDT</td>\n",
       "      <td>11551088</td>\n",
       "      <td>893</td>\n",
       "      <td>Confirmed</td>\n",
       "      <td>Character</td>\n",
       "      <td>Tumblr</td>\n",
       "      <td>Doge is a slang term for “dog” that is primari...</td>\n",
       "      <td>The use of the misspelled word “doge” to refer...</td>\n",
       "      <td>On October 28th, 2010, a photo of Kabosu was s...</td>\n",
       "    </tr>\n",
       "  </tbody>\n",
       "</table>\n",
       "</div>"
      ],
      "text/plain": [
       "      name                        added     views comments     status  \\\n",
       "6362  Doge  Jul 24, 2013 at 04:29PM EDT  11551088      893  Confirmed   \n",
       "\n",
       "           year    tags                                              about  \\\n",
       "6362  Character  Tumblr  Doge is a slang term for “dog” that is primari...   \n",
       "\n",
       "                                                 origin  \\\n",
       "6362  The use of the misspelled word “doge” to refer...   \n",
       "\n",
       "                                                 spread  \n",
       "6362  On October 28th, 2010, a photo of Kabosu was s...  "
      ]
     },
     "execution_count": 33,
     "metadata": {},
     "output_type": "execute_result"
    }
   ],
   "source": [
    "memes[memes.views==memes.views.max()]"
   ]
  },
  {
   "cell_type": "code",
   "execution_count": 42,
   "metadata": {
    "collapsed": false
   },
   "outputs": [],
   "source": [
    "memes['Timestamp'] = memes.added.apply(lambda x: pd.to_datetime(x))"
   ]
  },
  {
   "cell_type": "code",
   "execution_count": 43,
   "metadata": {
    "collapsed": true
   },
   "outputs": [],
   "source": [
    "memes['Year'] = memes.Timestamp.apply(lambda x: x.year)\n",
    "memes['Month'] = memes.Timestamp.apply(lambda x: x.month)\n",
    "memes['Day'] = memes.Timestamp.apply(lambda x: x.day)\n",
    "memes['Hour'] = memes.Timestamp.apply(lambda x: x.hour)\n",
    "memes['Weekday'] = memes.Timestamp.apply(lambda x: x.weekday())"
   ]
  },
  {
   "cell_type": "code",
   "execution_count": 44,
   "metadata": {
    "collapsed": true
   },
   "outputs": [],
   "source": [
    "memes['days_from_creation'] = (memes.Timestamp.max() - memes.Timestamp)/np.timedelta64(1, 'D')"
   ]
  },
  {
   "cell_type": "code",
   "execution_count": 45,
   "metadata": {
    "collapsed": false
   },
   "outputs": [
    {
     "data": {
      "image/png": "[encoded data removed]",
      "text/plain": [
       "<matplotlib.figure.Figure at 0x11893b6d0>"
      ]
     },
     "metadata": {},
     "output_type": "display_data"
    }
   ],
   "source": [
    "index =0 \n",
    "f, axarr = plt.subplots(2, 2, figsize=(20,15))\n",
    "times = ['Month', 'Day', 'Hour', 'Weekday']\n",
    "bins = [12, 31, 24, 7]\n",
    "index = 0\n",
    "for i in range(2):\n",
    "    for j in range(2):\n",
    "        axarr[i, j].hist(memes[times[index]], bins = bins[index])\n",
    "        axarr[i, j].set_title('Histogram of {}'.format(times[index]))\n",
    "        index += 1\n",
    "\n",
    "f.subplots_adjust(hspace=0.2)"
   ]
  },
  {
   "cell_type": "code",
   "execution_count": 47,
   "metadata": {
    "collapsed": false
   },
   "outputs": [
    {
     "data": {
      "image/png": "[encoded data removed]",
      "text/plain": [
       "<matplotlib.figure.Figure at 0x118627090>"
      ]
     },
     "metadata": {},
     "output_type": "display_data"
    }
   ],
   "source": [
    "memes.views[memes.views>0].apply(np.log).hist(bins=10)\n",
    "plt.title(\"Views\")\n",
    "plt.show()"
   ]
  },
  {
   "cell_type": "code",
   "execution_count": 48,
   "metadata": {
    "collapsed": true
   },
   "outputs": [],
   "source": [
    "memes['average_views'] = memes.views/memes.days_from_creation"
   ]
  },
  {
   "cell_type": "code",
   "execution_count": 53,
   "metadata": {
    "collapsed": false
   },
   "outputs": [
    {
     "data": {
      "text/html": [
       "<div>\n",
       "<table border=\"1\" class=\"dataframe\">\n",
       "  <thead>\n",
       "    <tr style=\"text-align: right;\">\n",
       "      <th></th>\n",
       "      <th>name</th>\n",
       "      <th>added</th>\n",
       "      <th>views</th>\n",
       "      <th>comments</th>\n",
       "      <th>status</th>\n",
       "      <th>year</th>\n",
       "      <th>tags</th>\n",
       "      <th>about</th>\n",
       "      <th>origin</th>\n",
       "      <th>spread</th>\n",
       "      <th>Timestamp</th>\n",
       "      <th>Year</th>\n",
       "      <th>Month</th>\n",
       "      <th>Day</th>\n",
       "      <th>Hour</th>\n",
       "      <th>Weekday</th>\n",
       "      <th>days_from_creation</th>\n",
       "      <th>average_views</th>\n",
       "    </tr>\n",
       "  </thead>\n",
       "  <tbody>\n",
       "    <tr>\n",
       "      <th>7551</th>\n",
       "      <td>#DrunkHillary</td>\n",
       "      <td>Nov 07, 2016 at 01:17PM EST</td>\n",
       "      <td>2568</td>\n",
       "      <td>29</td>\n",
       "      <td>Submission</td>\n",
       "      <td>Politics</td>\n",
       "      <td>The National Enquirer</td>\n",
       "      <td>#DrunkHillary is a hashtag used by supporters ...</td>\n",
       "      <td>On August 8th, 2015, John Podesta sent an emai...</td>\n",
       "      <td>NaN</td>\n",
       "      <td>2016-11-07 13:17:00</td>\n",
       "      <td>2016</td>\n",
       "      <td>11</td>\n",
       "      <td>7</td>\n",
       "      <td>13</td>\n",
       "      <td>0</td>\n",
       "      <td>0.0</td>\n",
       "      <td>inf</td>\n",
       "    </tr>\n",
       "  </tbody>\n",
       "</table>\n",
       "</div>"
      ],
      "text/plain": [
       "               name                        added  views comments      status  \\\n",
       "7551  #DrunkHillary  Nov 07, 2016 at 01:17PM EST   2568       29  Submission   \n",
       "\n",
       "          year                   tags  \\\n",
       "7551  Politics  The National Enquirer   \n",
       "\n",
       "                                                  about  \\\n",
       "7551  #DrunkHillary is a hashtag used by supporters ...   \n",
       "\n",
       "                                                 origin spread  \\\n",
       "7551  On August 8th, 2015, John Podesta sent an emai...    NaN   \n",
       "\n",
       "               Timestamp  Year  Month  Day  Hour  Weekday  days_from_creation  \\\n",
       "7551 2016-11-07 13:17:00  2016     11    7    13        0                 0.0   \n",
       "\n",
       "      average_views  \n",
       "7551            inf  "
      ]
     },
     "execution_count": 53,
     "metadata": {},
     "output_type": "execute_result"
    }
   ],
   "source": [
    "memes[memes.name==\"#DrunkHillary\"]"
   ]
  },
  {
   "cell_type": "code",
   "execution_count": 52,
   "metadata": {
    "collapsed": false
   },
   "outputs": [
    {
     "name": "stdout",
     "output_type": "stream",
     "text": [
      "\n",
      "Название: \n",
      "#DrunkHillary\n",
      "Среднее число просмотров в день inf\n",
      "==================\n",
      "\n",
      "Название: \n",
      "Harambe the Gorilla\n",
      "Среднее число просмотров в день 14441.0\n",
      "==================\n",
      "\n",
      "Название: \n",
      "Dat Boi\n",
      "Среднее число просмотров в день 13750.0\n",
      "==================\n",
      "\n",
      "Название: \n",
      "Ken Bone\n",
      "Среднее число просмотров в день 11085.0\n",
      "==================\n",
      "\n",
      "Название: \n",
      "Doge\n",
      "Среднее число просмотров в день 9611.0\n",
      "==================\n",
      "\n",
      "Название: \n",
      "Describe Yourself in 3 Fictional Characters\n",
      "Среднее число просмотров в день 7528.0\n",
      "==================\n",
      "\n",
      "Название: \n",
      "Hugh Mungus\n",
      "Среднее число просмотров в день 6872.0\n",
      "==================\n"
     ]
    }
   ],
   "source": [
    "sorted_df = memes.sort_values(by='average_views', ascending=False)\n",
    "for i in (sorted_df.index.tolist()[:7]):\n",
    "    print('\\nНазвание: ')\n",
    "    print(sorted_df.loc[i,'name'])\n",
    "    print(\"Среднее число просмотров в день {}\".format(round(sorted_df.loc[i,'average_views'])))\n",
    "    print('==================')"
   ]
  },
  {
   "cell_type": "code",
   "execution_count": null,
   "metadata": {
    "collapsed": true
   },
   "outputs": [],
   "source": []
  }
 ],
 "metadata": {
  "kernelspec": {
   "display_name": "Python [Root]",
   "language": "python",
   "name": "Python [Root]"
  },
  "language_info": {
   "codemirror_mode": {
    "name": "ipython",
    "version": 2
   },
   "file_extension": ".py",
   "mimetype": "text/x-python",
   "name": "python",
   "nbconvert_exporter": "python",
   "pygments_lexer": "ipython2",
   "version": "2.7.12"
  }
 },
 "nbformat": 4,
 "nbformat_minor": 0
}
