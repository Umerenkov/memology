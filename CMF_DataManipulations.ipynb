{
 "cells": [
  {
   "cell_type": "markdown",
   "metadata": {},
   "source": [
    "# [Memology](https://github.com/DmitrySerg/memology) - DataScience & Memes"
   ]
  },
  {
   "cell_type": "markdown",
   "metadata": {},
   "source": [
    "![](http://orig07.deviantart.net/3e62/f/2015/267/4/1/meme_team_logo_png_smol_by_kuiwi-d9ass0h.png)"
   ]
  },
  {
   "cell_type": "markdown",
   "metadata": {},
   "source": [
    "## Загружаем основные библиотеки"
   ]
  },
  {
   "cell_type": "code",
   "execution_count": 1,
   "metadata": {
    "collapsed": false
   },
   "outputs": [],
   "source": [
    "import pandas as pd             # датафреймы и операции с данными\n",
    "import numpy as np              # математические операции, векторные преобразования и линал\n",
    "import matplotlib.pyplot as plt # очень годные графики\n",
    "%matplotlib inline              \n",
    "plt.style.use('ggplot')         # используем красивый стиль ггплота\n",
    "from pylab import rcParams      # устанавливаем размер графиков \n",
    "rcParams['figure.figsize'] = 6, 6"
   ]
  },
  {
   "cell_type": "code",
   "execution_count": 2,
   "metadata": {
    "collapsed": true
   },
   "outputs": [],
   "source": [
    "import warnings\n",
    "warnings.filterwarnings(\"ignore\")"
   ]
  },
  {
   "cell_type": "markdown",
   "metadata": {},
   "source": [
    "При помощи метода read_csv читаем наши данные"
   ]
  },
  {
   "cell_type": "code",
   "execution_count": 3,
   "metadata": {
    "collapsed": false
   },
   "outputs": [],
   "source": [
    "memes = pd.read_csv('/Users/dmitrys/Desktop/DataProjects/KnowYourMemes/Memes_38.csv')"
   ]
  },
  {
   "cell_type": "code",
   "execution_count": 4,
   "metadata": {
    "collapsed": false
   },
   "outputs": [],
   "source": [
    "memes = memes.drop_duplicates(['name'])"
   ]
  },
  {
   "cell_type": "markdown",
   "metadata": {},
   "source": [
    "Базовые сведения о датасетике"
   ]
  },
  {
   "cell_type": "code",
   "execution_count": 5,
   "metadata": {
    "collapsed": false
   },
   "outputs": [
    {
     "name": "stdout",
     "output_type": "stream",
     "text": [
      "<class 'pandas.core.frame.DataFrame'>\n",
      "Int64Index: 1253 entries, 0 to 1476\n",
      "Data columns (total 11 columns):\n",
      "Unnamed: 0    1253 non-null int64\n",
      "name          1253 non-null object\n",
      "added         1253 non-null object\n",
      "views         1253 non-null int64\n",
      "comments      1253 non-null object\n",
      "status        1253 non-null object\n",
      "year          1253 non-null object\n",
      "tags          1253 non-null object\n",
      "about         907 non-null object\n",
      "origin        656 non-null object\n",
      "spread        92 non-null object\n",
      "dtypes: int64(2), object(9)\n",
      "memory usage: 117.5+ KB\n"
     ]
    }
   ],
   "source": [
    "memes.info()"
   ]
  },
  {
   "cell_type": "markdown",
   "metadata": {},
   "source": [
    "Посмотрим на число пропущенных значений"
   ]
  },
  {
   "cell_type": "code",
   "execution_count": 6,
   "metadata": {
    "collapsed": false
   },
   "outputs": [
    {
     "data": {
      "text/plain": [
       "Unnamed: 0       0\n",
       "name             0\n",
       "added            0\n",
       "views            0\n",
       "comments         0\n",
       "status           0\n",
       "year             0\n",
       "tags             0\n",
       "about          346\n",
       "origin         597\n",
       "spread        1161\n",
       "dtype: int64"
      ]
     },
     "execution_count": 6,
     "metadata": {},
     "output_type": "execute_result"
    }
   ],
   "source": [
    "memes.isnull().sum()"
   ]
  },
  {
   "cell_type": "code",
   "execution_count": 7,
   "metadata": {
    "collapsed": false
   },
   "outputs": [
    {
     "data": {
      "text/html": [
       "<div>\n",
       "<table border=\"1\" class=\"dataframe\">\n",
       "  <thead>\n",
       "    <tr style=\"text-align: right;\">\n",
       "      <th></th>\n",
       "      <th>Unnamed: 0</th>\n",
       "      <th>name</th>\n",
       "      <th>added</th>\n",
       "      <th>views</th>\n",
       "      <th>comments</th>\n",
       "      <th>status</th>\n",
       "      <th>year</th>\n",
       "      <th>tags</th>\n",
       "      <th>about</th>\n",
       "      <th>origin</th>\n",
       "      <th>spread</th>\n",
       "    </tr>\n",
       "  </thead>\n",
       "  <tbody>\n",
       "    <tr>\n",
       "      <th>0</th>\n",
       "      <td>0</td>\n",
       "      <td>\"Pen Pineapple Apple Pen\"</td>\n",
       "      <td>Sep 28, 2016 at 12:29PM EDT</td>\n",
       "      <td>24986</td>\n",
       "      <td>31</td>\n",
       "      <td>Submission</td>\n",
       "      <td>Music</td>\n",
       "      <td>YouTube</td>\n",
       "      <td>“Pen Pineapple Apple Pen” (Japanese: ペンパイナッポーア...</td>\n",
       "      <td>On August 25th, 2016, the music video was rele...</td>\n",
       "      <td>NaN</td>\n",
       "    </tr>\n",
       "    <tr>\n",
       "      <th>1</th>\n",
       "      <td>1</td>\n",
       "      <td>Barack Obama In Conversation With Leonardo DiC...</td>\n",
       "      <td>Sep 28, 2016 at 12:23PM EDT</td>\n",
       "      <td>8667</td>\n",
       "      <td>20</td>\n",
       "      <td>Submission</td>\n",
       "      <td>2016</td>\n",
       "      <td>obama, dicaprio, climate change, caption, twitter</td>\n",
       "      <td>Barack Obama In Conversation With Leondardo Di...</td>\n",
       "      <td>On September 25th, 2016, the @WhiteHouse[1] Tw...</td>\n",
       "      <td>NaN</td>\n",
       "    </tr>\n",
       "  </tbody>\n",
       "</table>\n",
       "</div>"
      ],
      "text/plain": [
       "   Unnamed: 0                                               name  \\\n",
       "0           0                          \"Pen Pineapple Apple Pen\"   \n",
       "1           1  Barack Obama In Conversation With Leonardo DiC...   \n",
       "\n",
       "                         added  views comments      status   year  \\\n",
       "0  Sep 28, 2016 at 12:29PM EDT  24986       31  Submission  Music   \n",
       "1  Sep 28, 2016 at 12:23PM EDT   8667       20  Submission   2016   \n",
       "\n",
       "                                                tags  \\\n",
       "0                                            YouTube   \n",
       "1  obama, dicaprio, climate change, caption, twitter   \n",
       "\n",
       "                                               about  \\\n",
       "0  “Pen Pineapple Apple Pen” (Japanese: ペンパイナッポーア...   \n",
       "1  Barack Obama In Conversation With Leondardo Di...   \n",
       "\n",
       "                                              origin spread  \n",
       "0  On August 25th, 2016, the music video was rele...    NaN  \n",
       "1  On September 25th, 2016, the @WhiteHouse[1] Tw...    NaN  "
      ]
     },
     "execution_count": 7,
     "metadata": {},
     "output_type": "execute_result"
    }
   ],
   "source": [
    "memes.head(2)"
   ]
  },
  {
   "cell_type": "code",
   "execution_count": 8,
   "metadata": {
    "collapsed": false
   },
   "outputs": [
    {
     "data": {
      "text/html": [
       "<div>\n",
       "<table border=\"1\" class=\"dataframe\">\n",
       "  <thead>\n",
       "    <tr style=\"text-align: right;\">\n",
       "      <th></th>\n",
       "      <th>Unnamed: 0</th>\n",
       "      <th>name</th>\n",
       "      <th>added</th>\n",
       "      <th>views</th>\n",
       "      <th>comments</th>\n",
       "      <th>status</th>\n",
       "      <th>year</th>\n",
       "      <th>tags</th>\n",
       "      <th>about</th>\n",
       "      <th>origin</th>\n",
       "      <th>spread</th>\n",
       "    </tr>\n",
       "  </thead>\n",
       "  <tbody>\n",
       "    <tr>\n",
       "      <th>1475</th>\n",
       "      <td>1475</td>\n",
       "      <td>James Deen Rape Allegations</td>\n",
       "      <td>Dec 01, 2015 at 04:50PM EST</td>\n",
       "      <td>63864</td>\n",
       "      <td>139</td>\n",
       "      <td>Submission</td>\n",
       "      <td>Crime &amp;amp; Justice</td>\n",
       "      <td>Twitter</td>\n",
       "      <td>NaN</td>\n",
       "      <td>NaN</td>\n",
       "      <td>NaN</td>\n",
       "    </tr>\n",
       "    <tr>\n",
       "      <th>1476</th>\n",
       "      <td>1476</td>\n",
       "      <td>The Meteorologist Dress</td>\n",
       "      <td>Dec 01, 2015 at 11:42AM EST</td>\n",
       "      <td>5406</td>\n",
       "      <td>15</td>\n",
       "      <td>Submission</td>\n",
       "      <td>2015</td>\n",
       "      <td>amazon, facebook, news, weather, dress, clothi...</td>\n",
       "      <td>The Meteorologist Dress refers to a women’s ga...</td>\n",
       "      <td>On November 21st, 2015, meteorologist Jennifer...</td>\n",
       "      <td>NaN</td>\n",
       "    </tr>\n",
       "  </tbody>\n",
       "</table>\n",
       "</div>"
      ],
      "text/plain": [
       "      Unnamed: 0                         name                        added  \\\n",
       "1475        1475  James Deen Rape Allegations  Dec 01, 2015 at 04:50PM EST   \n",
       "1476        1476      The Meteorologist Dress  Dec 01, 2015 at 11:42AM EST   \n",
       "\n",
       "      views comments      status                 year  \\\n",
       "1475  63864      139  Submission  Crime &amp; Justice   \n",
       "1476   5406       15  Submission                 2015   \n",
       "\n",
       "                                                   tags  \\\n",
       "1475                                            Twitter   \n",
       "1476  amazon, facebook, news, weather, dress, clothi...   \n",
       "\n",
       "                                                  about  \\\n",
       "1475                                                NaN   \n",
       "1476  The Meteorologist Dress refers to a women’s ga...   \n",
       "\n",
       "                                                 origin spread  \n",
       "1475                                                NaN    NaN  \n",
       "1476  On November 21st, 2015, meteorologist Jennifer...    NaN  "
      ]
     },
     "execution_count": 8,
     "metadata": {},
     "output_type": "execute_result"
    }
   ],
   "source": [
    "memes.tail(2)"
   ]
  },
  {
   "cell_type": "code",
   "execution_count": 9,
   "metadata": {
    "collapsed": false
   },
   "outputs": [
    {
     "data": {
      "text/plain": [
       "Index([u'Unnamed: 0', u'name', u'added', u'views', u'comments', u'status',\n",
       "       u'year', u'tags', u'about', u'origin', u'spread'],\n",
       "      dtype='object')"
      ]
     },
     "execution_count": 9,
     "metadata": {},
     "output_type": "execute_result"
    }
   ],
   "source": [
    "memes.columns"
   ]
  },
  {
   "cell_type": "markdown",
   "metadata": {},
   "source": [
    "Удалим ненужный столбец `Unnamed: 0`, параметром axis выбираем - будем дропать строку или столбец, inplace - чтобы наши изменения сохранились"
   ]
  },
  {
   "cell_type": "code",
   "execution_count": 10,
   "metadata": {
    "collapsed": true
   },
   "outputs": [],
   "source": [
    "memes.drop(['Unnamed: 0'], axis = 1, inplace = True)"
   ]
  },
  {
   "cell_type": "code",
   "execution_count": 11,
   "metadata": {
    "collapsed": false
   },
   "outputs": [
    {
     "data": {
      "text/plain": [
       "(1253, 10)"
      ]
     },
     "execution_count": 11,
     "metadata": {},
     "output_type": "execute_result"
    }
   ],
   "source": [
    "memes.shape"
   ]
  },
  {
   "cell_type": "code",
   "execution_count": 12,
   "metadata": {
    "collapsed": false
   },
   "outputs": [
    {
     "data": {
      "text/html": [
       "<div>\n",
       "<table border=\"1\" class=\"dataframe\">\n",
       "  <thead>\n",
       "    <tr style=\"text-align: right;\">\n",
       "      <th></th>\n",
       "      <th>name</th>\n",
       "      <th>added</th>\n",
       "      <th>views</th>\n",
       "      <th>comments</th>\n",
       "      <th>status</th>\n",
       "      <th>year</th>\n",
       "      <th>tags</th>\n",
       "      <th>about</th>\n",
       "      <th>origin</th>\n",
       "      <th>spread</th>\n",
       "    </tr>\n",
       "  </thead>\n",
       "  <tbody>\n",
       "    <tr>\n",
       "      <th>0</th>\n",
       "      <td>\"Pen Pineapple Apple Pen\"</td>\n",
       "      <td>Sep 28, 2016 at 12:29PM EDT</td>\n",
       "      <td>24986</td>\n",
       "      <td>31</td>\n",
       "      <td>Submission</td>\n",
       "      <td>Music</td>\n",
       "      <td>YouTube</td>\n",
       "      <td>“Pen Pineapple Apple Pen” (Japanese: ペンパイナッポーア...</td>\n",
       "      <td>On August 25th, 2016, the music video was rele...</td>\n",
       "      <td>NaN</td>\n",
       "    </tr>\n",
       "    <tr>\n",
       "      <th>1</th>\n",
       "      <td>Barack Obama In Conversation With Leonardo DiC...</td>\n",
       "      <td>Sep 28, 2016 at 12:23PM EDT</td>\n",
       "      <td>8667</td>\n",
       "      <td>20</td>\n",
       "      <td>Submission</td>\n",
       "      <td>2016</td>\n",
       "      <td>obama, dicaprio, climate change, caption, twitter</td>\n",
       "      <td>Barack Obama In Conversation With Leondardo Di...</td>\n",
       "      <td>On September 25th, 2016, the @WhiteHouse[1] Tw...</td>\n",
       "      <td>NaN</td>\n",
       "    </tr>\n",
       "  </tbody>\n",
       "</table>\n",
       "</div>"
      ],
      "text/plain": [
       "                                                name  \\\n",
       "0                          \"Pen Pineapple Apple Pen\"   \n",
       "1  Barack Obama In Conversation With Leonardo DiC...   \n",
       "\n",
       "                         added  views comments      status   year  \\\n",
       "0  Sep 28, 2016 at 12:29PM EDT  24986       31  Submission  Music   \n",
       "1  Sep 28, 2016 at 12:23PM EDT   8667       20  Submission   2016   \n",
       "\n",
       "                                                tags  \\\n",
       "0                                            YouTube   \n",
       "1  obama, dicaprio, climate change, caption, twitter   \n",
       "\n",
       "                                               about  \\\n",
       "0  “Pen Pineapple Apple Pen” (Japanese: ペンパイナッポーア...   \n",
       "1  Barack Obama In Conversation With Leondardo Di...   \n",
       "\n",
       "                                              origin spread  \n",
       "0  On August 25th, 2016, the music video was rele...    NaN  \n",
       "1  On September 25th, 2016, the @WhiteHouse[1] Tw...    NaN  "
      ]
     },
     "execution_count": 12,
     "metadata": {},
     "output_type": "execute_result"
    }
   ],
   "source": [
    "memes.head(2)"
   ]
  },
  {
   "cell_type": "markdown",
   "metadata": {},
   "source": [
    "## Посмотрим поближе на переменные"
   ]
  },
  {
   "cell_type": "markdown",
   "metadata": {},
   "source": [
    "## Время добавления мемасика"
   ]
  },
  {
   "cell_type": "code",
   "execution_count": 13,
   "metadata": {
    "collapsed": false
   },
   "outputs": [
    {
     "data": {
      "text/plain": [
       "0    Sep 28, 2016 at 12:29PM EDT\n",
       "1    Sep 28, 2016 at 12:23PM EDT\n",
       "2    Sep 27, 2016 at 12:38PM EDT\n",
       "3    Sep 28, 2016 at 12:32PM EDT\n",
       "4    Sep 09, 2016 at 12:50PM EDT\n",
       "5    Sep 27, 2016 at 12:33PM EDT\n",
       "6    May 10, 2010 at 04:27PM EDT\n",
       "7    Oct 01, 2016 at 04:03PM EDT\n",
       "8    Sep 30, 2016 at 09:57PM EDT\n",
       "9    Sep 30, 2016 at 02:59PM EDT\n",
       "Name: added, dtype: object"
      ]
     },
     "execution_count": 13,
     "metadata": {},
     "output_type": "execute_result"
    }
   ],
   "source": [
    "memes.added[0:10]"
   ]
  },
  {
   "cell_type": "code",
   "execution_count": 14,
   "metadata": {
    "collapsed": false
   },
   "outputs": [
    {
     "data": {
      "text/plain": [
       "Timestamp('2016-09-28 12:29:00')"
      ]
     },
     "execution_count": 14,
     "metadata": {},
     "output_type": "execute_result"
    }
   ],
   "source": [
    "pd.to_datetime(memes.added[0])"
   ]
  },
  {
   "cell_type": "markdown",
   "metadata": {},
   "source": [
    "### Перегоним наши текстовые даты в понятный питону формат Timestamp"
   ]
  },
  {
   "cell_type": "code",
   "execution_count": 15,
   "metadata": {
    "collapsed": false
   },
   "outputs": [],
   "source": [
    "def getTimestamp(date):\n",
    "    return pd.to_datetime(date)"
   ]
  },
  {
   "cell_type": "code",
   "execution_count": 16,
   "metadata": {
    "collapsed": true
   },
   "outputs": [],
   "source": [
    "memes['Timestamp'] = memes.added.apply(lambda x: getTimestamp(x))"
   ]
  },
  {
   "cell_type": "markdown",
   "metadata": {},
   "source": [
    "### Чем удобен timestamp - теперь мы можем из него получать год, месяц, день, час, дальше по вкусу"
   ]
  },
  {
   "cell_type": "code",
   "execution_count": 17,
   "metadata": {
    "collapsed": false
   },
   "outputs": [
    {
     "data": {
      "text/plain": [
       "name                                 \"Pen Pineapple Apple Pen\"\n",
       "added                              Sep 28, 2016 at 12:29PM EDT\n",
       "views                                                    24986\n",
       "comments                                                    31\n",
       "status                                              Submission\n",
       "year                                                     Music\n",
       "tags                                                   YouTube\n",
       "about        “Pen Pineapple Apple Pen” (Japanese: ペンパイナッポーア...\n",
       "origin       On August 25th, 2016, the music video was rele...\n",
       "spread                                                     NaN\n",
       "Timestamp                                  2016-09-28 12:29:00\n",
       "Name: 0, dtype: object"
      ]
     },
     "execution_count": 17,
     "metadata": {},
     "output_type": "execute_result"
    }
   ],
   "source": [
    "memes.loc[0]"
   ]
  },
  {
   "cell_type": "code",
   "execution_count": 18,
   "metadata": {
    "collapsed": false
   },
   "outputs": [
    {
     "data": {
      "text/plain": [
       "Timestamp('2016-09-28 12:29:00')"
      ]
     },
     "execution_count": 18,
     "metadata": {},
     "output_type": "execute_result"
    }
   ],
   "source": [
    "memes.loc[0, 'Timestamp']"
   ]
  },
  {
   "cell_type": "code",
   "execution_count": 19,
   "metadata": {
    "collapsed": false
   },
   "outputs": [
    {
     "name": "stdout",
     "output_type": "stream",
     "text": [
      "2016\n",
      "9\n",
      "28\n",
      "12\n"
     ]
    }
   ],
   "source": [
    "print(memes.loc[0, 'Timestamp'].year)\n",
    "print(memes.loc[0, 'Timestamp'].month)\n",
    "print(memes.loc[0, 'Timestamp'].day)\n",
    "print(memes.loc[0, 'Timestamp'].hour)"
   ]
  },
  {
   "cell_type": "markdown",
   "metadata": {},
   "source": [
    "## Создадим соответствующие переменные"
   ]
  },
  {
   "cell_type": "code",
   "execution_count": 20,
   "metadata": {
    "collapsed": true
   },
   "outputs": [],
   "source": [
    "memes['Year'] = memes.Timestamp.apply(lambda x: x.year)\n",
    "memes['Month'] = memes.Timestamp.apply(lambda x: x.month)\n",
    "memes['Day'] = memes.Timestamp.apply(lambda x: x.day)\n",
    "memes['Hour'] = memes.Timestamp.apply(lambda x: x.hour)\n",
    "memes['Weekday'] = memes.Timestamp.apply(lambda x: x.weekday())"
   ]
  },
  {
   "cell_type": "code",
   "execution_count": 21,
   "metadata": {
    "collapsed": false
   },
   "outputs": [],
   "source": [
    "memes['days_from_creation'] = (memes.Timestamp.max() - memes.Timestamp)/np.timedelta64(1, 'D')"
   ]
  },
  {
   "cell_type": "code",
   "execution_count": 22,
   "metadata": {
    "collapsed": false
   },
   "outputs": [
    {
     "data": {
      "text/plain": [
       "(2010, 2016)"
      ]
     },
     "execution_count": 22,
     "metadata": {},
     "output_type": "execute_result"
    }
   ],
   "source": [
    "memes.Timestamp.min().year, memes.Timestamp.max().year"
   ]
  },
  {
   "cell_type": "markdown",
   "metadata": {},
   "source": [
    "## Посмотрим на гистограмки"
   ]
  },
  {
   "cell_type": "code",
   "execution_count": 23,
   "metadata": {
    "collapsed": false
   },
   "outputs": [
    {
     "data": {
      "image/png": "[encoded data removed]",
      "text/plain": [
       "<matplotlib.figure.Figure at 0x1151b2bd0>"
      ]
     },
     "metadata": {},
     "output_type": "display_data"
    }
   ],
   "source": [
    "index =0 \n",
    "f, axarr = plt.subplots(2, 2, figsize=(20,15))\n",
    "times = ['Month', 'Day', 'Hour', 'Weekday']\n",
    "bins = [12, 31, 24, 7]\n",
    "index = 0\n",
    "for i in range(2):\n",
    "    for j in range(2):\n",
    "        axarr[i, j].hist(memes[times[index]], bins = bins[index])\n",
    "        axarr[i, j].set_title('Histogram of {}'.format(times[index]))\n",
    "        index += 1\n",
    "\n",
    "f.subplots_adjust(hspace=0.2)"
   ]
  },
  {
   "cell_type": "markdown",
   "metadata": {},
   "source": [
    "# Просмотры"
   ]
  },
  {
   "cell_type": "code",
   "execution_count": 24,
   "metadata": {
    "collapsed": false
   },
   "outputs": [
    {
     "data": {
      "text/plain": [
       "<matplotlib.axes._subplots.AxesSubplot at 0x114c1acd0>"
      ]
     },
     "execution_count": 24,
     "metadata": {},
     "output_type": "execute_result"
    },
    {
     "data": {
      "image/png": "[encoded data removed]",
      "text/plain": [
       "<matplotlib.figure.Figure at 0x1154b3c90>"
      ]
     },
     "metadata": {},
     "output_type": "display_data"
    }
   ],
   "source": [
    "memes.views.hist(bins=10)"
   ]
  },
  {
   "cell_type": "code",
   "execution_count": 25,
   "metadata": {
    "collapsed": false
   },
   "outputs": [
    {
     "data": {
      "text/plain": [
       "<matplotlib.axes._subplots.AxesSubplot at 0x117a9dad0>"
      ]
     },
     "execution_count": 25,
     "metadata": {},
     "output_type": "execute_result"
    },
    {
     "data": {
      "image/png": "[encoded data removed]",
      "text/plain": [
       "<matplotlib.figure.Figure at 0x117c94b50>"
      ]
     },
     "metadata": {},
     "output_type": "display_data"
    }
   ],
   "source": [
    "memes.views[memes.views>0].apply(np.log).hist(bins=10)"
   ]
  },
  {
   "cell_type": "code",
   "execution_count": 26,
   "metadata": {
    "collapsed": true
   },
   "outputs": [],
   "source": [
    "memes['average_views'] = memes.views/memes.days_from_creation"
   ]
  },
  {
   "cell_type": "code",
   "execution_count": 27,
   "metadata": {
    "collapsed": false
   },
   "outputs": [
    {
     "name": "stdout",
     "output_type": "stream",
     "text": [
      "\n",
      "Название: \n",
      "Describe Yourself in 3 Fictional Characters\n",
      "31561.0\n",
      "==================\n",
      "\n",
      "Название: \n",
      "Harambe the Gorilla\n",
      "16687.0\n",
      "==================\n",
      "\n",
      "Название: \n",
      "Dat Boi\n",
      "16410.0\n",
      "==================\n",
      "\n",
      "Название: \n",
      "Hugh Mungus\n",
      "12579.0\n",
      "==================\n",
      "\n",
      "Название: \n",
      "Roof Koreans\n",
      "8731.0\n",
      "==================\n",
      "\n",
      "Название: \n",
      "\"Pen Pineapple Apple Pen\"\n",
      "7936.0\n",
      "==================\n",
      "\n",
      "Название: \n",
      "I'm Rick Harrison and This Is My Pawn Shop\n",
      "6136.0\n",
      "==================\n"
     ]
    }
   ],
   "source": [
    "sorted_df = memes.sort_values(by='average_views', ascending=False)\n",
    "for i in (sorted_df.index.tolist()[:7]):\n",
    "    print('\\nНазвание: ')\n",
    "    print(sorted_df.loc[i,'name'])\n",
    "    print(round(sorted_df.loc[i,'average_views']))\n",
    "    print('==================')"
   ]
  },
  {
   "cell_type": "markdown",
   "metadata": {},
   "source": [
    "# Комментарии"
   ]
  },
  {
   "cell_type": "code",
   "execution_count": 28,
   "metadata": {
    "collapsed": false
   },
   "outputs": [
    {
     "data": {
      "text/plain": [
       "46     1 Comment\">\\n<a href=\"/memes/we-are-number-one...\n",
       "63     1 Comment\">\\n<a href=\"/memes/subcultures/offic...\n",
       "76     1 Comment\">\\n<a href=\"/memes/events/the-kebab-...\n",
       "167    1 Comment\">\\n<a href=\"/memes/dipp#comments\" re...\n",
       "174    1 Comment\">\\n<a href=\"/memes/the-otp-and-the-t...\n",
       "210    1 Comment\">\\n<a href=\"/memes/people/redlight#c...\n",
       "254    1 Comment\">\\n<a href=\"/memes/subcultures/reser...\n",
       "255    1 Comment\">\\n<a href=\"/memes/subcultures/jacka...\n",
       "274    1 Comment\">\\n<a href=\"/memes/sites/mighty-car-...\n",
       "276    1 Comment\">\\n<a href=\"/memes/keemstars-party#c...\n",
       "Name: comments, dtype: object"
      ]
     },
     "execution_count": 28,
     "metadata": {},
     "output_type": "execute_result"
    }
   ],
   "source": [
    "memes.comments[~memes.comments.apply(lambda x: x.isdigit())][:10]"
   ]
  },
  {
   "cell_type": "code",
   "execution_count": 29,
   "metadata": {
    "collapsed": false
   },
   "outputs": [],
   "source": [
    "memes.comments[~memes.comments.apply(lambda x: x.isdigit())] = 1"
   ]
  },
  {
   "cell_type": "code",
   "execution_count": 30,
   "metadata": {
    "collapsed": true
   },
   "outputs": [],
   "source": [
    "memes.comments = memes.comments.astype(int)"
   ]
  },
  {
   "cell_type": "code",
   "execution_count": 33,
   "metadata": {
    "collapsed": false
   },
   "outputs": [
    {
     "data": {
      "text/plain": [
       "<matplotlib.axes._subplots.AxesSubplot at 0x11ac9b650>"
      ]
     },
     "execution_count": 33,
     "metadata": {},
     "output_type": "execute_result"
    },
    {
     "data": {
      "image/png": "[encoded data removed]",
      "text/plain": [
       "<matplotlib.figure.Figure at 0x11ac8f890>"
      ]
     },
     "metadata": {},
     "output_type": "display_data"
    }
   ],
   "source": [
    "memes.comments.hist()"
   ]
  },
  {
   "cell_type": "code",
   "execution_count": 34,
   "metadata": {
    "collapsed": true
   },
   "outputs": [],
   "source": [
    "memes['average_comments'] = memes.comments/memes.days_from_creation"
   ]
  },
  {
   "cell_type": "code",
   "execution_count": 35,
   "metadata": {
    "collapsed": false
   },
   "outputs": [
    {
     "name": "stdout",
     "output_type": "stream",
     "text": [
      "\n",
      "Название: \n",
      "Emoji Spells\n",
      "43.0\n",
      "==================\n",
      "\n",
      "Название: \n",
      "Name a More Iconic Duo\n",
      "43.0\n",
      "==================\n",
      "\n",
      "Название: \n",
      "Google/Clinton Conspiracy\n",
      "32.0\n",
      "==================\n",
      "\n",
      "Название: \n",
      "Roof Koreans\n",
      "31.0\n",
      "==================\n",
      "\n",
      "Название: \n",
      "Bowl of M&amp;Ms\n",
      "28.0\n",
      "==================\n",
      "\n",
      "Название: \n",
      "2016 United States Presidential Election Debates\n",
      "26.0\n",
      "==================\n",
      "\n",
      "Название: \n",
      "YouTube Heroes Controversy\n",
      "23.0\n",
      "==================\n"
     ]
    }
   ],
   "source": [
    "sorted_df = memes.sort_values(by='average_comments', ascending=False)\n",
    "for i in (sorted_df.index.tolist()[:7]):\n",
    "    print('\\nНазвание: ')\n",
    "    print(sorted_df.loc[i,'name'])\n",
    "    print(round(sorted_df.loc[i,'average_comments']))\n",
    "    print('==================')"
   ]
  },
  {
   "cell_type": "markdown",
   "metadata": {},
   "source": [
    "![](https://camo.githubusercontent.com/1b20bda3050d54726f7850a7a82d205d44ea104b/68747470733a2f2f6c68332e676f6f676c6575736572636f6e74656e742e636f6d2f326c56344e6d366f61395f685932742d397442626f33524175457a637261616c6f675a54306f50446d42716963347457586c694d505f5050574d6647346e6e72307678463d6831323634)"
   ]
  }
 ],
 "metadata": {
  "anaconda-cloud": {},
  "kernelspec": {
   "display_name": "Python [Root]",
   "language": "python",
   "name": "Python [Root]"
  },
  "language_info": {
   "codemirror_mode": {
    "name": "ipython",
    "version": 2
   },
   "file_extension": ".py",
   "mimetype": "text/x-python",
   "name": "python",
   "nbconvert_exporter": "python",
   "pygments_lexer": "ipython2",
   "version": "2.7.12"
  }
 },
 "nbformat": 4,
 "nbformat_minor": 0
}
