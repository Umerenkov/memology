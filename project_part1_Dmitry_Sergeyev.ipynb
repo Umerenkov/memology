{
 "cells": [
  {
   "cell_type": "markdown",
   "metadata": {},
   "source": [
    "<img src=\"../../img/ml_theme.png\">\n",
    "## <center> Дополнительное профессиональное <br> образование НИУ ВШЭ </center>\n",
    "#### <center>Программа \"Практический анализ данных и машинное обучение\" </center>\n",
    "<img src=\"../../img/faculty_logo.jpg\" height=\"240\" width=\"240\">\n",
    "### <center> Автор материала: Сергеев Дмитрий </center>"
   ]
  },
  {
   "cell_type": "markdown",
   "metadata": {},
   "source": [
    "## <center> Индивидуальный проект по анализу данных </center>"
   ]
  },
  {
   "cell_type": "markdown",
   "metadata": {},
   "source": [
    "**План исследования**\n",
    " - Описание набора данных и признаков\n",
    " - Первичный анализ признаков\n",
    " - Первичный визуальный анализ признаков\n",
    " - Закономерности, \"инсайты\", особенности данных\n",
    " - Предобработка данных\n",
    " - Построение признаков\n",
    " - Отбор признаков\n",
    " - Построение модели\n",
    " - Кросс-валидация, подбор параметров\n",
    " - Кривые валидации и обучения\n",
    " - Прогноз для тестовой (или отложенной) выборки\n",
    " - Оценка модели с описанием выбранной метрики\n",
    " - Выводы"
   ]
  },
  {
   "cell_type": "code",
   "execution_count": 1,
   "metadata": {
    "collapsed": false
   },
   "outputs": [],
   "source": [
    "import warnings\n",
    "warnings.filterwarnings('ignore')\n",
    "import numpy as np\n",
    "import pandas as pd\n",
    "\n",
    "from pylab import rcParams      \n",
    "rcParams['figure.figsize'] = 8, 8\n",
    "import seaborn as sns\n",
    "import matplotlib.pyplot as plt\n",
    "plt.style.use(\"ggplot\")\n",
    "%matplotlib inline"
   ]
  },
  {
   "cell_type": "markdown",
   "metadata": {},
   "source": [
    "###  Часть 1. Описание набора данных и признаков"
   ]
  },
  {
   "cell_type": "markdown",
   "metadata": {},
   "source": [
    "**Пара слов о проекте**\n",
    "\n",
    "С сайта [knowyourmeme.com](http://knowyourmeme.com/) по состоянию на 10 ноября 2016 года я спарсил все 11679 мемов, заботливо разложенных на 369 страницах. Переход на каждую страницу в автоматическом режиме грозил мне блокировкой IP адреса. Чтобы этого не происходило, пришлось долго и упорно искать способы обхода блокировки, результатом которых стал TOR, динамически обновляющий IP практически после каждого запроса, к которому удалось подключится в питоне. Подробнее про парсер можно узнать в [репозитории](https://github.com/DmitrySerg/memology). \n",
    "\n",
    "Собствено, проект посвящен исследованию этих веселых картинок на предмет предсказания их популярности на основании описания, а также (надеюсь), проведения тематического моделирования для выделения групп мемов. "
   ]
  },
  {
   "cell_type": "code",
   "execution_count": 2,
   "metadata": {
    "collapsed": true
   },
   "outputs": [],
   "source": [
    "memes = pd.read_csv('/Users/dmitrys/Desktop/DataProjects/KnowYourMemes/all_data_memes.csv')"
   ]
  },
  {
   "cell_type": "code",
   "execution_count": 3,
   "metadata": {
    "collapsed": false
   },
   "outputs": [],
   "source": [
    "memes.drop(['Unnamed: 0.1'], axis=1, inplace=True)"
   ]
  },
  {
   "cell_type": "code",
   "execution_count": 4,
   "metadata": {
    "collapsed": true
   },
   "outputs": [],
   "source": [
    "memes = memes.drop_duplicates(\"name\") # из-за структуры сайта, некоторые мемы добавлялись неоднократно"
   ]
  },
  {
   "cell_type": "code",
   "execution_count": 5,
   "metadata": {
    "collapsed": false
   },
   "outputs": [],
   "source": [
    "memes.reset_index(drop=True, inplace=True)"
   ]
  },
  {
   "cell_type": "code",
   "execution_count": 6,
   "metadata": {
    "collapsed": false
   },
   "outputs": [
    {
     "name": "stdout",
     "output_type": "stream",
     "text": [
      "<class 'pandas.core.frame.DataFrame'>\n",
      "RangeIndex: 11679 entries, 0 to 11678\n",
      "Data columns (total 11 columns):\n",
      "Unnamed: 0    11679 non-null int64\n",
      "name          11679 non-null object\n",
      "added         11679 non-null object\n",
      "views         11679 non-null int64\n",
      "comments      11679 non-null object\n",
      "status        11679 non-null object\n",
      "year          11679 non-null object\n",
      "tags          11679 non-null object\n",
      "about         6832 non-null object\n",
      "origin        4819 non-null object\n",
      "spread        947 non-null object\n",
      "dtypes: int64(2), object(9)\n",
      "memory usage: 1003.7+ KB\n"
     ]
    }
   ],
   "source": [
    "memes.info()"
   ]
  },
  {
   "cell_type": "markdown",
   "metadata": {},
   "source": [
    "Итак, пройдемся по переменным:\n",
    "\n",
    "- name - название мема\n",
    "- added - дата добавления\n",
    "- views - число просмотров на сайте\n",
    "- comments - число комментариев\n",
    "- status - категориальная переменная, статус присваивается на сайте в зависимости от \"одобрения\" мема сообществом\n",
    "- year - год, к которому относится первоисточник появления картинки (например, год выхода определенной серии Симпсонов)\n",
    "- tags - тэги, также являются категориями\n",
    "- about - описание мема\n",
    "- origin - описание происхождения\n",
    "- spread - где приобрел особенную популярность"
   ]
  },
  {
   "cell_type": "code",
   "execution_count": 7,
   "metadata": {
    "collapsed": false
   },
   "outputs": [
    {
     "data": {
      "text/html": [
       "<div>\n",
       "<table border=\"1\" class=\"dataframe\">\n",
       "  <thead>\n",
       "    <tr style=\"text-align: right;\">\n",
       "      <th></th>\n",
       "      <th>Unnamed: 0</th>\n",
       "      <th>name</th>\n",
       "      <th>added</th>\n",
       "      <th>views</th>\n",
       "      <th>comments</th>\n",
       "      <th>status</th>\n",
       "      <th>year</th>\n",
       "      <th>tags</th>\n",
       "      <th>about</th>\n",
       "      <th>origin</th>\n",
       "      <th>spread</th>\n",
       "    </tr>\n",
       "  </thead>\n",
       "  <tbody>\n",
       "    <tr>\n",
       "      <th>0</th>\n",
       "      <td>0</td>\n",
       "      <td>Last Time The Cubs Won the World Series</td>\n",
       "      <td>Nov 03, 2016 at 11:22AM EDT</td>\n",
       "      <td>17157</td>\n",
       "      <td>60</td>\n",
       "      <td>Submission</td>\n",
       "      <td>Sports</td>\n",
       "      <td>Chicago</td>\n",
       "      <td>Last Time the Cubs Won the World Series refers...</td>\n",
       "      <td>NaN</td>\n",
       "      <td>Jokes and fascination with the Cubs’ had small...</td>\n",
       "    </tr>\n",
       "    <tr>\n",
       "      <th>1</th>\n",
       "      <td>1</td>\n",
       "      <td>PenorCut's Fiverr Videos</td>\n",
       "      <td>Jul 20, 2015 at 07:54PM EDT</td>\n",
       "      <td>36629</td>\n",
       "      <td>39</td>\n",
       "      <td>Submission</td>\n",
       "      <td>Researching</td>\n",
       "      <td>YouTube</td>\n",
       "      <td>NaN</td>\n",
       "      <td>NaN</td>\n",
       "      <td>NaN</td>\n",
       "    </tr>\n",
       "    <tr>\n",
       "      <th>2</th>\n",
       "      <td>2</td>\n",
       "      <td>AmourShipping</td>\n",
       "      <td>Nov 02, 2016 at 03:01PM EDT</td>\n",
       "      <td>32293</td>\n",
       "      <td>81</td>\n",
       "      <td>Submission</td>\n",
       "      <td>Pairing</td>\n",
       "      <td>Unknown</td>\n",
       "      <td>Amourshipping refers to the romantic pairing o...</td>\n",
       "      <td>On September 12th, 2013, a discussion thread f...</td>\n",
       "      <td>NaN</td>\n",
       "    </tr>\n",
       "  </tbody>\n",
       "</table>\n",
       "</div>"
      ],
      "text/plain": [
       "   Unnamed: 0                                     name  \\\n",
       "0           0  Last Time The Cubs Won the World Series   \n",
       "1           1                 PenorCut's Fiverr Videos   \n",
       "2           2                            AmourShipping   \n",
       "\n",
       "                         added  views comments      status         year  \\\n",
       "0  Nov 03, 2016 at 11:22AM EDT  17157       60  Submission       Sports   \n",
       "1  Jul 20, 2015 at 07:54PM EDT  36629       39  Submission  Researching   \n",
       "2  Nov 02, 2016 at 03:01PM EDT  32293       81  Submission      Pairing   \n",
       "\n",
       "      tags                                              about  \\\n",
       "0  Chicago  Last Time the Cubs Won the World Series refers...   \n",
       "1  YouTube                                                NaN   \n",
       "2  Unknown  Amourshipping refers to the romantic pairing o...   \n",
       "\n",
       "                                              origin  \\\n",
       "0                                                NaN   \n",
       "1                                                NaN   \n",
       "2  On September 12th, 2013, a discussion thread f...   \n",
       "\n",
       "                                              spread  \n",
       "0  Jokes and fascination with the Cubs’ had small...  \n",
       "1                                                NaN  \n",
       "2                                                NaN  "
      ]
     },
     "execution_count": 7,
     "metadata": {},
     "output_type": "execute_result"
    }
   ],
   "source": [
    "memes.head(3)"
   ]
  },
  {
   "cell_type": "code",
   "execution_count": 8,
   "metadata": {
    "collapsed": false
   },
   "outputs": [
    {
     "data": {
      "text/html": [
       "<div>\n",
       "<table border=\"1\" class=\"dataframe\">\n",
       "  <thead>\n",
       "    <tr style=\"text-align: right;\">\n",
       "      <th></th>\n",
       "      <th>Unnamed: 0</th>\n",
       "      <th>name</th>\n",
       "      <th>added</th>\n",
       "      <th>views</th>\n",
       "      <th>comments</th>\n",
       "      <th>status</th>\n",
       "      <th>year</th>\n",
       "      <th>tags</th>\n",
       "      <th>about</th>\n",
       "      <th>origin</th>\n",
       "      <th>spread</th>\n",
       "    </tr>\n",
       "  </thead>\n",
       "  <tbody>\n",
       "    <tr>\n",
       "      <th>11676</th>\n",
       "      <td>13443</td>\n",
       "      <td>Cannon Penis</td>\n",
       "      <td>Oct 11, 2010 at 06:07PM EDT</td>\n",
       "      <td>20202</td>\n",
       "      <td>14</td>\n",
       "      <td>Submission</td>\n",
       "      <td>NSFW</td>\n",
       "      <td>YouTube</td>\n",
       "      <td>NaN</td>\n",
       "      <td>NaN</td>\n",
       "      <td>NaN</td>\n",
       "    </tr>\n",
       "    <tr>\n",
       "      <th>11677</th>\n",
       "      <td>13444</td>\n",
       "      <td>Gaben</td>\n",
       "      <td>Oct 11, 2010 at 01:22PM EDT</td>\n",
       "      <td>479780</td>\n",
       "      <td>49</td>\n",
       "      <td>Submission</td>\n",
       "      <td>2010</td>\n",
       "      <td>tf2, stop, newell, control, wait, gabe, gaben,...</td>\n",
       "      <td>Gaben is a nickname given to Gabe Newell, the ...</td>\n",
       "      <td>The soundclip of Gabe Newell saying “gaben” ca...</td>\n",
       "      <td>NaN</td>\n",
       "    </tr>\n",
       "    <tr>\n",
       "      <th>11678</th>\n",
       "      <td>13445</td>\n",
       "      <td>alex smith fail</td>\n",
       "      <td>Oct 11, 2010 at 06:00AM EDT</td>\n",
       "      <td>2730</td>\n",
       "      <td>14</td>\n",
       "      <td>Deadpool</td>\n",
       "      <td>2010</td>\n",
       "      <td>alex smith, 49ers, sf, san francisco, fail.qb,...</td>\n",
       "      <td>NaN</td>\n",
       "      <td>NaN</td>\n",
       "      <td>NaN</td>\n",
       "    </tr>\n",
       "  </tbody>\n",
       "</table>\n",
       "</div>"
      ],
      "text/plain": [
       "       Unnamed: 0             name                        added   views  \\\n",
       "11676       13443     Cannon Penis  Oct 11, 2010 at 06:07PM EDT   20202   \n",
       "11677       13444            Gaben  Oct 11, 2010 at 01:22PM EDT  479780   \n",
       "11678       13445  alex smith fail  Oct 11, 2010 at 06:00AM EDT    2730   \n",
       "\n",
       "      comments      status  year  \\\n",
       "11676       14  Submission  NSFW   \n",
       "11677       49  Submission  2010   \n",
       "11678       14    Deadpool  2010   \n",
       "\n",
       "                                                    tags  \\\n",
       "11676                                            YouTube   \n",
       "11677  tf2, stop, newell, control, wait, gabe, gaben,...   \n",
       "11678  alex smith, 49ers, sf, san francisco, fail.qb,...   \n",
       "\n",
       "                                                   about  \\\n",
       "11676                                                NaN   \n",
       "11677  Gaben is a nickname given to Gabe Newell, the ...   \n",
       "11678                                                NaN   \n",
       "\n",
       "                                                  origin spread  \n",
       "11676                                                NaN    NaN  \n",
       "11677  The soundclip of Gabe Newell saying “gaben” ca...    NaN  \n",
       "11678                                                NaN    NaN  "
      ]
     },
     "execution_count": 8,
     "metadata": {},
     "output_type": "execute_result"
    }
   ],
   "source": [
    "memes.tail(3)"
   ]
  },
  {
   "cell_type": "markdown",
   "metadata": {},
   "source": [
    "###  Часть 2. Первичный анализ признаков"
   ]
  },
  {
   "cell_type": "markdown",
   "metadata": {
    "collapsed": true
   },
   "source": [
    "Конечно же, в первую очередь хочется посмотреть на самый популярный в мире мем"
   ]
  },
  {
   "cell_type": "code",
   "execution_count": 9,
   "metadata": {
    "collapsed": false
   },
   "outputs": [
    {
     "data": {
      "text/html": [
       "<div>\n",
       "<table border=\"1\" class=\"dataframe\">\n",
       "  <thead>\n",
       "    <tr style=\"text-align: right;\">\n",
       "      <th></th>\n",
       "      <th>Unnamed: 0</th>\n",
       "      <th>name</th>\n",
       "      <th>added</th>\n",
       "      <th>views</th>\n",
       "      <th>comments</th>\n",
       "      <th>status</th>\n",
       "      <th>year</th>\n",
       "      <th>tags</th>\n",
       "      <th>about</th>\n",
       "      <th>origin</th>\n",
       "      <th>spread</th>\n",
       "    </tr>\n",
       "  </thead>\n",
       "  <tbody>\n",
       "    <tr>\n",
       "      <th>5408</th>\n",
       "      <td>6362</td>\n",
       "      <td>Doge</td>\n",
       "      <td>Jul 24, 2013 at 04:29PM EDT</td>\n",
       "      <td>11551088</td>\n",
       "      <td>893</td>\n",
       "      <td>Confirmed</td>\n",
       "      <td>Character</td>\n",
       "      <td>Tumblr</td>\n",
       "      <td>Doge is a slang term for “dog” that is primari...</td>\n",
       "      <td>The use of the misspelled word “doge” to refer...</td>\n",
       "      <td>On October 28th, 2010, a photo of Kabosu was s...</td>\n",
       "    </tr>\n",
       "  </tbody>\n",
       "</table>\n",
       "</div>"
      ],
      "text/plain": [
       "      Unnamed: 0  name                        added     views comments  \\\n",
       "5408        6362  Doge  Jul 24, 2013 at 04:29PM EDT  11551088      893   \n",
       "\n",
       "         status       year    tags  \\\n",
       "5408  Confirmed  Character  Tumblr   \n",
       "\n",
       "                                                  about  \\\n",
       "5408  Doge is a slang term for “dog” that is primari...   \n",
       "\n",
       "                                                 origin  \\\n",
       "5408  The use of the misspelled word “doge” to refer...   \n",
       "\n",
       "                                                 spread  \n",
       "5408  On October 28th, 2010, a photo of Kabosu was s...  "
      ]
     },
     "execution_count": 9,
     "metadata": {},
     "output_type": "execute_result"
    }
   ],
   "source": [
    "memes[memes.views==memes.views.max()]"
   ]
  },
  {
   "cell_type": "markdown",
   "metadata": {},
   "source": [
    "И это Доге!"
   ]
  },
  {
   "cell_type": "markdown",
   "metadata": {},
   "source": [
    "![](http://i2.kym-cdn.com/entries/icons/original/000/013/564/aP2dv.gif)"
   ]
  },
  {
   "cell_type": "markdown",
   "metadata": {},
   "source": [
    "# Время добавления\n",
    "\n",
    "Так как в нашем распоряжении есть чудесная переменная `added`, то можно поиграться с ней, преобразовав в понятный питону формат и повытаскивая из него час, день недели и месяца, месяц и год добавления"
   ]
  },
  {
   "cell_type": "code",
   "execution_count": 10,
   "metadata": {
    "collapsed": true
   },
   "outputs": [],
   "source": [
    "memes['Timestamp'] = memes.added.apply(lambda x: pd.to_datetime(x))\n",
    "memes['Year'] = memes.Timestamp.apply(lambda x: x.year)\n",
    "memes['Month'] = memes.Timestamp.apply(lambda x: x.month)\n",
    "memes['Day'] = memes.Timestamp.apply(lambda x: x.day)\n",
    "memes['Hour'] = memes.Timestamp.apply(lambda x: x.hour)\n",
    "memes['Weekday'] = memes.Timestamp.apply(lambda x: x.weekday())"
   ]
  },
  {
   "cell_type": "markdown",
   "metadata": {},
   "source": [
    "Также пригодится переменная, отвечающая за число дней, прошедших с момента добавления мема на сайт"
   ]
  },
  {
   "cell_type": "code",
   "execution_count": 11,
   "metadata": {
    "collapsed": true
   },
   "outputs": [],
   "source": [
    "memes['days_from_creation'] = (memes.Timestamp.max() - memes.Timestamp)/np.timedelta64(1, 'D')"
   ]
  },
  {
   "cell_type": "markdown",
   "metadata": {},
   "source": [
    "А теперь для наших созданных переменных построим несколько гистограмм"
   ]
  },
  {
   "cell_type": "code",
   "execution_count": 12,
   "metadata": {
    "collapsed": false
   },
   "outputs": [
    {
     "data": {
      "image/png": "[encoded data removed]",
      "text/plain": [
       "<matplotlib.figure.Figure at 0x116c36890>"
      ]
     },
     "metadata": {},
     "output_type": "display_data"
    }
   ],
   "source": [
    "index =0 \n",
    "f, axarr = plt.subplots(2, 2, figsize=(15,10))\n",
    "times = ['Month', 'Day', 'Hour', 'Weekday']\n",
    "bins = [12, 31, 24, 7]\n",
    "index = 0\n",
    "for i in range(2):\n",
    "    for j in range(2):\n",
    "        axarr[i, j].hist(memes[times[index]], bins = bins[index])\n",
    "        axarr[i, j].set_title('Histogram of {}'.format(times[index]))\n",
    "        index += 1\n",
    "\n",
    "f.subplots_adjust(hspace=0.2)"
   ]
  },
  {
   "cell_type": "markdown",
   "metadata": {},
   "source": [
    "Итак, что тут есть интересного:\n",
    "- На гистограмме месяца есть небольшой провал в сентябре (возможно, у основной аудитории в этот месяц начинаются уроки)\n",
    "- День ничего необычного не принес, распределено достаточно равномерно\n",
    "- Гистограмма часа достаточно показательная - в ночной период активность значительно снижается, а затем растет, достигая пика примерно после уроков\n",
    "- По дням недели есть заметное снижения на выходных, интересно, почему бы это"
   ]
  },
  {
   "cell_type": "code",
   "execution_count": 13,
   "metadata": {
    "collapsed": false
   },
   "outputs": [
    {
     "data": {
      "image/png": "[encoded data removed]",
      "text/plain": [
       "<matplotlib.figure.Figure at 0x116d24b10>"
      ]
     },
     "metadata": {},
     "output_type": "display_data"
    }
   ],
   "source": [
    "memes.Year.value_counts().plot(kind='bar', figsize=(10, 5))\n",
    "plt.title(\"Histogram of year\")\n",
    "plt.show()"
   ]
  },
  {
   "cell_type": "code",
   "execution_count": 14,
   "metadata": {
    "collapsed": false
   },
   "outputs": [
    {
     "data": {
      "text/plain": [
       "2012    21.9%\n",
       "2011    20.3%\n",
       "2015    14.7%\n",
       "2014    13.9%\n",
       "2016    13.4%\n",
       "2013    12.3%\n",
       "2010     3.6%\n",
       "Name: Year, dtype: object"
      ]
     },
     "execution_count": 14,
     "metadata": {},
     "output_type": "execute_result"
    }
   ],
   "source": [
    "memes.Year.value_counts(normalize=True).apply(lambda x: \"{}%\".format(str(round(x, 3)*100)))"
   ]
  },
  {
   "cell_type": "markdown",
   "metadata": {},
   "source": [
    "Похоже, 2011 и 2012 были расцветом для мемов, 42% от всего их количества на сайте были добавлены в эти два года.\n",
    "\n",
    "# Год появления первоисточника\n",
    "\n",
    "Посмотрим также на вторую переменную, связанную с годом - год появления первоисточника `year`"
   ]
  },
  {
   "cell_type": "code",
   "execution_count": 15,
   "metadata": {
    "collapsed": false
   },
   "outputs": [
    {
     "data": {
      "text/plain": [
       "2011           1670\n",
       "2012           1238\n",
       "Unknown         881\n",
       "2010            597\n",
       "2013            581\n",
       "NSFW            541\n",
       "2014            529\n",
       "2016            406\n",
       "Researching     383\n",
       "2015            343\n",
       "Name: year, dtype: int64"
      ]
     },
     "execution_count": 15,
     "metadata": {},
     "output_type": "execute_result"
    }
   ],
   "source": [
    "memes.year.value_counts()[:10]"
   ]
  },
  {
   "cell_type": "markdown",
   "metadata": {},
   "source": [
    "К сожалению, сюда затесалось несколько тэгов, придется очистить переменную от них, попутно добавив эти значения в переменную `tags`"
   ]
  },
  {
   "cell_type": "code",
   "execution_count": 16,
   "metadata": {
    "collapsed": true
   },
   "outputs": [],
   "source": [
    "def clearYear(year):\n",
    "    if not year.isdigit():\n",
    "        return np.NaN, ' '+year\n",
    "    else:\n",
    "        return int(year), ''"
   ]
  },
  {
   "cell_type": "code",
   "execution_count": 17,
   "metadata": {
    "collapsed": false
   },
   "outputs": [],
   "source": [
    "years, tags = zip(*memes.year.apply(lambda x: clearYear(x)))\n",
    "memes.year = years\n",
    "memes.tags += tags"
   ]
  },
  {
   "cell_type": "code",
   "execution_count": 18,
   "metadata": {
    "collapsed": false
   },
   "outputs": [
    {
     "data": {
      "text/plain": [
       "count    7218.000000\n",
       "mean     2007.279163\n",
       "std        40.585179\n",
       "min      1000.000000\n",
       "25%      2009.000000\n",
       "50%      2011.000000\n",
       "75%      2013.000000\n",
       "max      2916.000000\n",
       "Name: year, dtype: float64"
      ]
     },
     "execution_count": 18,
     "metadata": {},
     "output_type": "execute_result"
    }
   ],
   "source": [
    "memes.year.describe()"
   ]
  },
  {
   "cell_type": "markdown",
   "metadata": {},
   "source": [
    "Отлично! Теперь переменная очищена от текстовых значений, минимальное значение у нас 1000, максимальное - 2196, что очень похоже на опечатку в \"2016\""
   ]
  },
  {
   "cell_type": "code",
   "execution_count": 19,
   "metadata": {
    "collapsed": false
   },
   "outputs": [
    {
     "data": {
      "image/png": "[encoded data removed]",
      "text/plain": [
       "<matplotlib.figure.Figure at 0x101135250>"
      ]
     },
     "metadata": {},
     "output_type": "display_data"
    }
   ],
   "source": [
    "memes.year[(memes.year>2000)&(memes.year<2020)].hist(bins=100)\n",
    "plt.show()"
   ]
  },
  {
   "cell_type": "markdown",
   "metadata": {},
   "source": [
    "Немного ограничив временные рамки можно выяснить, что 2011 и 2012 стали первоисточниками для наибольшего числа мемов"
   ]
  },
  {
   "cell_type": "markdown",
   "metadata": {},
   "source": [
    "Можем посмотреть на наиболее \"исторические\" мемы, берущие своё начало, например, до 1500 года"
   ]
  },
  {
   "cell_type": "code",
   "execution_count": 20,
   "metadata": {
    "collapsed": false,
    "scrolled": true
   },
   "outputs": [
    {
     "name": "stdout",
     "output_type": "stream",
     "text": [
      "Name: Tutankhamun\n",
      "Year: 1341.0\n",
      "About:\n",
      "Tutankhamun (lit. translation, Living Image of Amun) was an ancient Egyptian pharaoh who rose to power and control of Egypt at the age of 10 and ruled for approximately 8 years before his death in 1323 B.C. at the age of 18 or 19 years old. Because of this, as well as the circumstances surrounding the excavation of his tomb lead by Howard Carter in 1922, and what has been discovered since his tomb’s discovery, he has become famous around the world for being the subject of one of the world’s most in-depth excavations and ongoing archaeological mysteries.\n",
      "==================================================================\n",
      "\n",
      "Name: Foxes\n",
      "Year: 1000.0\n",
      "About:\n",
      "Foxes are omnivorous members of the Canidae family, a lineage of carnivorous mammals that also includes dogs, wolves and jackals. Foxes are found on every continent except Antarctica, with the most common species being the red fox (Vulpes vulpes) and its 47 recognized sub-species.\n",
      "==================================================================\n",
      "\n",
      "Name: Katana\n",
      "Year: 1392.0\n",
      "About:\n",
      "Katana are traditional Japanese swords originally wielded by samurai in feudal Japan. Online, the weapons are often associated with White enthusiasts of Japanese culture, who are mockingly referred to as neckbeards and weeaboos.\n",
      "==================================================================\n",
      "\n",
      "Name: Anglophile\n",
      "Year: 1066.0\n",
      "About:\n",
      "Anglophile is a word meaning a non-English person who admires England and English people and their culture. The term Anglophile is commonly used incorrectly to refer to a person who admires Great Britain or the British isles (known officially as a Britophile). Anglophiles are known for having romanticised views of England and the United Kingdom and some have been known to prefer English culture over that of their own indigenous culture, similar to Japanophiles or Weeaboos.\n",
      "==================================================================\n",
      "\n",
      "Name: Zzz\n",
      "Year: 1111.0\n",
      "About:\n",
      "nan\n",
      "==================================================================\n",
      "\n",
      "Name: Vitruvian Man\n",
      "Year: 1490.0\n",
      "About:\n",
      "Vitruvian Man, also known as the “Canon of Proportions,” is an illustration of a man inside of a circle and square in two superimposed positions. Created by the Italian Renaissance artist Leonardo da Vinci circa 1490, the drawing is based on the ideal geometric human proportions as described in the treatise De Architectura by the Roman architect Vitruvius.\n",
      "==================================================================\n",
      "\n",
      "Name: Pascal's Triangle\n",
      "Year: 1100.0\n",
      "About:\n",
      "Pascal’s Triangleis a triangular formation that is bordered by a series of ones with each interior row being equal to the sum of the two interior rows above. The array illustrates the mathematical concept of binomial coefficients.\n",
      "==================================================================\n",
      "\n",
      "Name: Chocolate\n",
      "Year: 1100.0\n",
      "About:\n",
      "Chocolate is a food item known for its sweet taste, its tendency to melt in a hot environment and its all-round delicious nature. Chocolate is typically produced using cocoa solids, sugar and other fats. Milk chocolate, as the name would suggest, is created using milk and is the most common type of chocolate available. In modern culture, chocolate is often lauded as being an incredible food in similar vein to Bacon (which leads to unexpected results when you combine the two)\n",
      "==================================================================\n",
      "\n",
      "Name: V Sign\n",
      "Year: 1415.0\n",
      "About:\n",
      "V Sign is a hand gesture in which the index and middle fingers are raised and parted, while the other fingers are clenched. The sign is used in multiple cultures with various meanings.\n",
      "==================================================================\n",
      "\n",
      "Name: Annoyed Child\n",
      "Year: 1212.0\n",
      "About:\n",
      "nan\n",
      "==================================================================\n",
      "\n",
      "Name: The Last Supper Parodies\n",
      "Year: 1495.0\n",
      "About:\n",
      "The Last Supper Parodies are photoshopped or redrawn images that play off of Leonardo da Vinci’s[1] painting depicting the last supper of Jesus and his twelve disciples.\n",
      "==================================================================\n",
      "\n",
      "Name: dsada\n",
      "Year: 1232.0\n",
      "About:\n",
      "nan\n",
      "==================================================================\n",
      "\n"
     ]
    }
   ],
   "source": [
    "ancient = memes[memes.year<1500]\n",
    "for i in ancient.index.tolist():\n",
    "    print(\"Name: {}\".format(ancient.loc[i, \"name\"]))\n",
    "    print(\"Year: {}\".format(ancient.loc[i, \"year\"]))\n",
    "    print(\"About:\\n{}\".format(ancient.loc[i, \"about\"]))\n",
    "    print(\"==================================================================\\n\")"
   ]
  },
  {
   "cell_type": "markdown",
   "metadata": {},
   "source": [
    "К сожалению, не у всех есть описание, но в целом понятно, откуда взялись такие древние годы происхождения - создание первой катаны в Японии, битва при Гастингсе в 1066 году, Витрувианский человек и Последняя вечеря Леонардо да Винчи 1490 и 1495 годы соответственно. Откуда только не черпают вдохновение создатели мемчиков"
   ]
  },
  {
   "cell_type": "markdown",
   "metadata": {},
   "source": [
    "# Число просмотров"
   ]
  },
  {
   "cell_type": "code",
   "execution_count": 21,
   "metadata": {
    "collapsed": false
   },
   "outputs": [
    {
     "data": {
      "image/png": "[encoded data removed]",
      "text/plain": [
       "<matplotlib.figure.Figure at 0x118096e50>"
      ]
     },
     "metadata": {},
     "output_type": "display_data"
    }
   ],
   "source": [
    "memes.views[memes.views>0].hist(bins=10)\n",
    "plt.title(\"Hist of Views\")\n",
    "plt.show()"
   ]
  },
  {
   "cell_type": "code",
   "execution_count": 22,
   "metadata": {
    "collapsed": false
   },
   "outputs": [
    {
     "data": {
      "image/png": "[encoded data removed]",
      "text/plain": [
       "<matplotlib.figure.Figure at 0x11ba37dd0>"
      ]
     },
     "metadata": {},
     "output_type": "display_data"
    }
   ],
   "source": [
    "memes.views[memes.views>0].apply(np.log).hist(bins=10)\n",
    "plt.title(\"Hist of log Views\")\n",
    "plt.show()"
   ]
  },
  {
   "cell_type": "markdown",
   "metadata": {},
   "source": [
    "# Популярность\n",
    "\n",
    "Метрикой популярности, в данном случае, будет оценка среднего числа просмотров в день. Для этого разделим фактическое число просмотров на число дней, прошедших со дня публикации."
   ]
  },
  {
   "cell_type": "code",
   "execution_count": 23,
   "metadata": {
    "collapsed": false
   },
   "outputs": [],
   "source": [
    "memes['average_views'] = memes.views/memes.days_from_creation"
   ]
  },
  {
   "cell_type": "code",
   "execution_count": 24,
   "metadata": {
    "collapsed": true
   },
   "outputs": [],
   "source": [
    "memes.average_views[memes.name==\"#DrunkHillary\"] = 2568 # самый молодой мем, пока что дней с его создания прошло ровно 0,\n",
    "                                                        # поэтому присваиваем среднему число просмотров фактическое"
   ]
  },
  {
   "cell_type": "markdown",
   "metadata": {},
   "source": [
    "### Посмотрим на самые популярные!"
   ]
  },
  {
   "cell_type": "code",
   "execution_count": 25,
   "metadata": {
    "collapsed": false
   },
   "outputs": [
    {
     "name": "stdout",
     "output_type": "stream",
     "text": [
      "Meme name: \n",
      "Harambe the Gorilla\n",
      "Average views (per day) 14441.0\n",
      "==============\n",
      "\n",
      "Meme name: \n",
      "Dat Boi\n",
      "Average views (per day) 13750.0\n",
      "==============\n",
      "\n",
      "Meme name: \n",
      "Ken Bone\n",
      "Average views (per day) 11085.0\n",
      "==============\n",
      "\n",
      "Meme name: \n",
      "Doge\n",
      "Average views (per day) 9611.0\n",
      "==============\n",
      "\n",
      "Meme name: \n",
      "Describe Yourself in 3 Fictional Characters\n",
      "Average views (per day) 7528.0\n",
      "==============\n",
      "\n",
      "Meme name: \n",
      "Hugh Mungus\n",
      "Average views (per day) 6872.0\n",
      "==============\n",
      "\n",
      "Meme name: \n",
      "( ͡° ͜ʖ ͡°) / Lenny Face\n",
      "Average views (per day) 6747.0\n",
      "==============\n",
      "\n"
     ]
    }
   ],
   "source": [
    "popular = memes.sort_values(by='average_views', ascending=False)\n",
    "for i in popular.index.tolist()[:7]:\n",
    "    print('Meme name: ')\n",
    "    print(popular.loc[i,'name'])\n",
    "    print(\"Average views (per day) {}\".format(round(popular.loc[i,'average_views'])))\n",
    "    print('==============\\n')"
   ]
  },
  {
   "cell_type": "markdown",
   "metadata": {},
   "source": [
    "Горила [Harambe](http://knowyourmeme.com/memes/harambe-the-gorilla) лидирует - слишком эмоциональный мем получился. Хотя Doge тоже есть в числе лидеров!"
   ]
  },
  {
   "cell_type": "markdown",
   "metadata": {},
   "source": [
    "# Комментарии"
   ]
  },
  {
   "cell_type": "code",
   "execution_count": 26,
   "metadata": {
    "collapsed": false
   },
   "outputs": [
    {
     "data": {
      "text/plain": [
       "9      1 Comment\">\\n<a href=\"/memes/sombra#comments\" ...\n",
       "10     1 Comment\">\\n<a href=\"/memes/subcultures/pokem...\n",
       "36     1 Comment\">\\n<a href=\"/memes/cajama#comments\" ...\n",
       "56     1 Comment\">\\n<a href=\"/memes/spinnyboiz#commen...\n",
       "65     1 Comment\">\\n<a href=\"/memes/finally-i-can-exp...\n",
       "71     1 Comment\">\\n<a href=\"/memes/mr-hudson#comment...\n",
       "117    1 Comment\">\\n<a href=\"/memes/wallace-and-gromi...\n",
       "118    1 Comment\">\\n<a href=\"/memes/worm-on-a-string#...\n",
       "120    1 Comment\">\\n<a href=\"/memes/slondermon#commen...\n",
       "122    1 Comment\">\\n<a href=\"/memes/harambe-s-son-and...\n",
       "Name: comments, dtype: object"
      ]
     },
     "execution_count": 26,
     "metadata": {},
     "output_type": "execute_result"
    }
   ],
   "source": [
    "memes.comments[~memes.comments.apply(lambda x: x.isdigit())][:10]"
   ]
  },
  {
   "cell_type": "markdown",
   "metadata": {},
   "source": [
    "Снова придется немного почистить - в комментарии закрался HTML"
   ]
  },
  {
   "cell_type": "code",
   "execution_count": 27,
   "metadata": {
    "collapsed": true
   },
   "outputs": [],
   "source": [
    "memes.comments[~memes.comments.apply(lambda x: x.isdigit())] = 1\n",
    "memes.comments = memes.comments.astype(int)"
   ]
  },
  {
   "cell_type": "code",
   "execution_count": 28,
   "metadata": {
    "collapsed": false
   },
   "outputs": [
    {
     "data": {
      "image/png": "[encoded data removed]",
      "text/plain": [
       "<matplotlib.figure.Figure at 0x11bf35d90>"
      ]
     },
     "metadata": {},
     "output_type": "display_data"
    }
   ],
   "source": [
    "memes.comments.hist()\n",
    "plt.title(\"Hist of comments\")\n",
    "plt.show()"
   ]
  },
  {
   "cell_type": "markdown",
   "metadata": {},
   "source": [
    "### Посмотрим на самые комментируемые"
   ]
  },
  {
   "cell_type": "code",
   "execution_count": 29,
   "metadata": {
    "collapsed": true
   },
   "outputs": [],
   "source": [
    "memes['average_comments'] = memes.comments/memes.days_from_creation"
   ]
  },
  {
   "cell_type": "code",
   "execution_count": 30,
   "metadata": {
    "collapsed": true
   },
   "outputs": [],
   "source": [
    "memes.average_comments[memes.name == \"#DrunkHillary\"] = memes.comments[memes.name == \"#DrunkHillary\"]"
   ]
  },
  {
   "cell_type": "code",
   "execution_count": 31,
   "metadata": {
    "collapsed": false
   },
   "outputs": [
    {
     "name": "stdout",
     "output_type": "stream",
     "text": [
      "Meme name: \n",
      "#SpiritCooking\n",
      "Average comments (per day) 50.0\n",
      "==============\n",
      "\n",
      "Meme name: \n",
      "#DrunkHillary\n",
      "Average comments (per day) 29.0\n",
      "==============\n",
      "\n",
      "Meme name: \n",
      "AmourShipping\n",
      "Average comments (per day) 16.0\n",
      "==============\n",
      "\n",
      "Meme name: \n",
      "#ScienceMustFall\n",
      "Average comments (per day) 16.0\n",
      "==============\n",
      "\n",
      "Meme name: \n",
      "Last Time The Cubs Won the World Series\n",
      "Average comments (per day) 15.0\n",
      "==============\n",
      "\n",
      "Meme name: \n",
      "Vote From Home\n",
      "Average comments (per day) 14.0\n",
      "==============\n",
      "\n",
      "Meme name: \n",
      "\"On November 9th...\"\n",
      "Average comments (per day) 12.0\n",
      "==============\n",
      "\n"
     ]
    }
   ],
   "source": [
    "popular = memes.sort_values(by='average_comments', ascending=False)\n",
    "for i in popular.index.tolist()[:7]:\n",
    "    print('Meme name: ')\n",
    "    print(popular.loc[i,'name'])\n",
    "    print(\"Average comments (per day) {}\".format(round(popular.loc[i,'average_comments'])))\n",
    "    print('==============\\n')"
   ]
  },
  {
   "cell_type": "markdown",
   "metadata": {},
   "source": [
    "# Статус"
   ]
  },
  {
   "cell_type": "code",
   "execution_count": 32,
   "metadata": {
    "collapsed": false
   },
   "outputs": [
    {
     "data": {
      "image/png": "[encoded data removed]",
      "text/plain": [
       "<matplotlib.figure.Figure at 0x116d3d590>"
      ]
     },
     "metadata": {},
     "output_type": "display_data"
    }
   ],
   "source": [
    "memes.status.value_counts().plot(kind='barh')\n",
    "plt.title(\"Hist of Status\")\n",
    "plt.show()"
   ]
  },
  {
   "cell_type": "markdown",
   "metadata": {},
   "source": [
    "А вот здесь можно попутно решить еще и задачку множественной классификации - для каждого мема есть три состояния:\n",
    "- Submission - добавлен недавно или не еще не стал \"признанным\" в сообществе\n",
    "- Deadpool - если умер и не используется\n",
    "- Confirmed - активно используется и получил статус \"подтвержденного\" мема"
   ]
  },
  {
   "cell_type": "markdown",
   "metadata": {},
   "source": [
    "---\n",
    "\n",
    "Что ж, по всем переменным первично прошлись, далее необходимо будет перевести текст во что-то более удобоваримое, например, tf-idf форму, а названия вполне можно прогнать через word2vec и посмотреть, что получится, если от Doge отнять Harambe ;)"
   ]
  }
 ],
 "metadata": {
  "anaconda-cloud": {},
  "kernelspec": {
   "display_name": "Python [Root]",
   "language": "python",
   "name": "Python [Root]"
  },
  "language_info": {
   "codemirror_mode": {
    "name": "ipython",
    "version": 2
   },
   "file_extension": ".py",
   "mimetype": "text/x-python",
   "name": "python",
   "nbconvert_exporter": "python",
   "pygments_lexer": "ipython2",
   "version": "2.7.12"
  }
 },
 "nbformat": 4,
 "nbformat_minor": 0
}
